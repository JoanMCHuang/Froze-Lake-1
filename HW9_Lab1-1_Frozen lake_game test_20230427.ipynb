{
 "cells": [
  {
   "cell_type": "markdown",
   "id": "3ee00e4c",
   "metadata": {},
   "source": [
    "## 冰湖(Frozen lake)環境各項參數測試"
   ]
  },
  {
   "cell_type": "code",
   "execution_count": 2,
   "id": "80ed324a",
   "metadata": {},
   "outputs": [],
   "source": [
    "#載入套件\n",
    "import gymnasium as gym"
   ]
  },
  {
   "cell_type": "code",
   "execution_count": 3,
   "id": "00ac3b77",
   "metadata": {},
   "outputs": [
    {
     "name": "stderr",
     "output_type": "stream",
     "text": [
      "C:\\ProgramData\\Anaconda3\\lib\\site-packages\\gymnasium\\envs\\toy_text\\frozen_lake.py:328: UserWarning: \u001b[33mWARN: You are calling render method without specifying any render mode. You can specify the render_mode at initialization, e.g. gym.make(\"FrozenLake-v1\", render_mode=\"rgb_array\")\u001b[0m\n",
      "  gym.logger.warn(\n"
     ]
    }
   ],
   "source": [
    "#環境設定\n",
    "#各項參數測試 (map_name=\"4x4\")\n",
    "# render_mode=\"human\" (加這行會顯示遊戲畫面)\n",
    "env = gym.make('FrozenLake-v1', desc=None, map_name=\"4x4\", is_slippery=False)\n",
    "\n",
    "observation = env.reset()\n",
    "for _ in range(1000):\n",
    "    env.render()\n",
    "    action = env.action_space.sample() # your agent here (this takes random actions)\n",
    "    observation, reward, terminated, truncated, info = env.step(action)\n",
    "\n",
    "    if terminated or truncated:\n",
    "        observation, info = env.reset()\n",
    "env.close()"
   ]
  },
  {
   "cell_type": "code",
   "execution_count": null,
   "id": "516d0df7",
   "metadata": {},
   "outputs": [],
   "source": [
    "#環境設定\n",
    "#各項參數測試 (map_name=\"8x8\")\n",
    "# render_mode=\"human\" (加這行會顯示遊戲畫面)\n",
    "env = gym.make('FrozenLake-v1', desc=None, map_name=\"8x8\", is_slippery=False, render_mode=\"human\")\n",
    "\n",
    "observation = env.reset()\n",
    "for _ in range(1000):\n",
    "    env.render()\n",
    "    action = env.action_space.sample() # your agent here (this takes random actions)\n",
    "    observation, reward, terminated, truncated, info = env.step(action)\n",
    "\n",
    "    if terminated or truncated:\n",
    "        observation, info = env.reset()\n",
    "env.close()"
   ]
  },
  {
   "cell_type": "code",
   "execution_count": null,
   "id": "18198f41",
   "metadata": {},
   "outputs": [],
   "source": [
    "#環境設定\n",
    "#各項參數測試 desc=generate_random_map(size=8)\n",
    "import gymnasium as gym\n",
    "from gymnasium.envs.toy_text.frozen_lake import generate_random_map\n",
    "\n",
    "env = gym.make('FrozenLake-v1', desc=generate_random_map(size=8),render_mode=\"human\")\n",
    "\n",
    "#Ignore warning\n",
    "import warnings\n",
    "warnings.filterwarnings('ignore')\n",
    "\n",
    "observation = env.reset()\n",
    "for _ in range(1000):\n",
    "    env.render()\n",
    "    action = env.action_space.sample() # your agent here (this takes random actions)\n",
    "    observation, reward, terminated, truncated, info = env.step(action)\n",
    "\n",
    "    if terminated or truncated:\n",
    "        observation, info = env.reset()\n",
    "env.close()"
   ]
  },
  {
   "cell_type": "code",
   "execution_count": null,
   "id": "8aad0532",
   "metadata": {},
   "outputs": [],
   "source": [
    "#環境設定\n",
    "#各項參數測試 desc=generate_random_map(size=4)\n",
    "import gymnasium as gym\n",
    "from gymnasium.envs.toy_text.frozen_lake import generate_random_map\n",
    "\n",
    "env = gym.make('FrozenLake-v1', desc=generate_random_map(size=4),render_mode=\"human\")\n",
    "\n",
    "#Ignore warning\n",
    "import warnings\n",
    "warnings.filterwarnings('ignore')\n",
    "\n",
    "observation = env.reset()\n",
    "for _ in range(1000):\n",
    "    env.render()\n",
    "    action = env.action_space.sample() # your agent here (this takes random actions)\n",
    "    observation, reward, terminated, truncated, info = env.step(action)\n",
    "\n",
    "    if terminated or truncated:\n",
    "        observation, info = env.reset()\n",
    "env.close()"
   ]
  },
  {
   "cell_type": "code",
   "execution_count": 1,
   "id": "669543cc",
   "metadata": {},
   "outputs": [
    {
     "ename": "NameError",
     "evalue": "name 'gym' is not defined",
     "output_type": "error",
     "traceback": [
      "\u001b[1;31m---------------------------------------------------------------------------\u001b[0m",
      "\u001b[1;31mNameError\u001b[0m                                 Traceback (most recent call last)",
      "Input \u001b[1;32mIn [1]\u001b[0m, in \u001b[0;36m<cell line: 4>\u001b[1;34m()\u001b[0m\n\u001b[0;32m      1\u001b[0m \u001b[38;5;66;03m#環境設定\u001b[39;00m\n\u001b[0;32m      2\u001b[0m \u001b[38;5;66;03m#各項參數測試  \u001b[39;00m\n\u001b[0;32m      3\u001b[0m \u001b[38;5;66;03m# render_mode=\"human\" (加這行會顯示遊戲畫面)\u001b[39;00m\n\u001b[1;32m----> 4\u001b[0m env \u001b[38;5;241m=\u001b[39m \u001b[43mgym\u001b[49m\u001b[38;5;241m.\u001b[39mmake(\u001b[38;5;124m'\u001b[39m\u001b[38;5;124mFrozenLake-v1\u001b[39m\u001b[38;5;124m'\u001b[39m,is_slippery\u001b[38;5;241m=\u001b[39m\u001b[38;5;28;01mTrue\u001b[39;00m,render_mode\u001b[38;5;241m=\u001b[39m\u001b[38;5;124m\"\u001b[39m\u001b[38;5;124mhuman\u001b[39m\u001b[38;5;124m\"\u001b[39m)\n\u001b[0;32m      6\u001b[0m \u001b[38;5;66;03m#另外設定 map \u001b[39;00m\n\u001b[0;32m      7\u001b[0m desc\u001b[38;5;241m=\u001b[39m[\u001b[38;5;124m\"\u001b[39m\u001b[38;5;124mSFFF\u001b[39m\u001b[38;5;124m\"\u001b[39m, \u001b[38;5;124m\"\u001b[39m\u001b[38;5;124mFHFH\u001b[39m\u001b[38;5;124m\"\u001b[39m, \u001b[38;5;124m\"\u001b[39m\u001b[38;5;124mFFFH\u001b[39m\u001b[38;5;124m\"\u001b[39m, \u001b[38;5;124m\"\u001b[39m\u001b[38;5;124mHFFG\u001b[39m\u001b[38;5;124m\"\u001b[39m]\n",
      "\u001b[1;31mNameError\u001b[0m: name 'gym' is not defined"
     ]
    }
   ],
   "source": [
    "#環境設定\n",
    "#各項參數測試  \n",
    "# render_mode=\"human\" (加這行會顯示遊戲畫面)\n",
    "env = gym.make('FrozenLake-v1',is_slippery=True,render_mode=\"human\")\n",
    "\n",
    "#另外設定 map \n",
    "desc=[\"SFFF\", \"FHFH\", \"FFFH\", \"HFFG\"]\n",
    "\n",
    "observation = env.reset()\n",
    "for _ in range(1000):\n",
    "    env.render()\n",
    "    action = env.action_space.sample() # your agent here (this takes random actions)\n",
    "    observation, reward, terminated, truncated, info = env.step(action)\n",
    "\n",
    "    if terminated or truncated:\n",
    "        observation, info = env.reset()\n",
    "env.close()"
   ]
  },
  {
   "cell_type": "code",
   "execution_count": null,
   "id": "e6b4de4a",
   "metadata": {},
   "outputs": [],
   "source": [
    "#環境設定\n",
    "#各項參數測試  \n",
    "# render_mode=\"human\" (加這行會顯示遊戲畫面)\n",
    "env = gym.make('FrozenLake-v1',render_mode=\"human\") #不指定 map(不寫 desc,並且尚未指定 desc=None),預設為 4x4\n",
    "\n",
    "observation = env.reset()\n",
    "for _ in range(1000):\n",
    "    env.render()\n",
    "    action = env.action_space.sample() # your agent here (this takes random actions)\n",
    "    observation, reward, terminated, truncated, info = env.step(action)\n",
    "\n",
    "    if terminated or truncated:\n",
    "        observation, info = env.reset()\n",
    "env.close()"
   ]
  },
  {
   "cell_type": "markdown",
   "id": "025c9009",
   "metadata": {},
   "source": [
    "## 結論:\n",
    "### (1) 地圖 (map) 只有 4x4 和 8x8兩種,其餘會產生 error\n",
    "### (2) 若 desc=None, 則要指定 map 大小\n",
    "### (3) 否則 (a)自訂 desc (把陣列所有元素包含 S,F,H 一一列舉出來) 或 (b)desc=generate_random_map(size=8) 隨機樣貌地圖,也就是 S,F,H 隨機分配, size 可改 4 或 8\n",
    "### (4) (a) is_slippery=False: 不滑行; (b) is_slippery=True: 玩家除了會移動到想前進的方向之外,還會往欲前進的垂直方向滑行,而這三個方向機率皆為 1/3. (例如: 玩家向\"左\"移, 可是卻同時會往\"上\"或\"下\"滑行; 這三個方向機率皆為 1/3)\n",
    "### [Note_1] 如果您有顯示畫面(程式碼有加 render_mode=\"human\"),必須按暫停(interrupt the kernel) 但只是暫停遊戲,遊戲視窗並未關掉; 如果要整個關掉遊戲視窗, 必須關掉 jupyter notebook 的 CMD 視窗才能完全關掉!! 或是 Kernel restrart 也可以\n",
    "### [Note_2] jupyter notebook 本身是網頁,在網頁裡面跑動畫比較慢 (所以用 Notepas++ 跑比較快)\n",
    "### (5) 另外,與撰寫程式較相關的定義: 0: Move left, 1: Move down, 2: Move right, 3: Move up\n",
    "### (6) 玩家目前的位置(陣列位置),可以由公式  current_row * nrows + current_col 計算出來, 其中 (nrows 的 n 值為 4 或 8, 視 map 大小而定; 若 map = 4x4, 則 n=4; 若 map = 8x8, 則 n=8)\n",
    "### (7) 寫程式請務必參考 (5) 和 (6) 的搭配性, 以下是移動條件式範例程式參考:"
   ]
  },
  {
   "cell_type": "code",
   "execution_count": null,
   "id": "8d72c1f0",
   "metadata": {},
   "outputs": [],
   "source": [
    "for j in range(n_actions):\n",
    "        if desc[row][col] == 'H':\n",
    "            P[i, j, i] = 1\n",
    "        else:\n",
    "            if j == 0: # up\n",
    "                if row == 0:\n",
    "                    next_state = i\n",
    "                else:\n",
    "                    next_state = (row-1)*4 + col\n",
    "            elif j == 1: # down\n",
    "                if row == 3:\n",
    "                    next_state = i\n",
    "                else:\n",
    "                    next_state = (row+1)*4 + col\n",
    "            elif j == 2: # left\n",
    "                if col == 0:\n",
    "                    next_state = i\n",
    "                else:\n",
    "                    next_state = row*4 + col-1\n",
    "            elif j == 3: # right\n",
    "                if col == 3:\n",
    "                    next_state = i\n",
    "                else:\n",
    "                    next_state = row*4 + col+1\n",
    "            P[i, j, next_state] = 1"
   ]
  },
  {
   "cell_type": "markdown",
   "id": "08e6233e",
   "metadata": {},
   "source": [
    "### 上面的程式其 n 值皆為 4 (因為 map 定義為 4 x 4), P[i, j, next_state] 表示在第 i 個狀態下，進行第 j 個行動後，會轉移到第 next_state 個狀態的機率; 然後我們可以看到 up, down, left , right 個別對應(定義)四個不同的數字,以及四種不同的移動條件, 每個條件都各別有其四種無法移動的條件(維持在原地), 這四種分別為: 在最左邊(col = 0), 無法再往左; 在最右邊(col = 3), 無法在往右; 在最上面(row = 0),無法再往上; 在最下面(row = 3),無法再往下;因此,這四種無法動彈的狀態,其下一個位置皆為初始狀態 i (next_state = i), 另外其餘的四種情況,則需要計算下一個狀態的位址 (就利用剛剛所提的 player current position = current_row * nrows + current_col), 注意, nrow 視 map 大小而定, 為 4 或 8 (分別對應到 4x4 或 8x8 的矩陣), 而current_row 及  current_col 則對應到不同的移動方向,而有不同的定義: 向上 (up) 則 (row-1), 向下 (down) 則 (row +1), 向左(left) 則 (col -1) , 向右 (right) 則 (col+1); 如此, 就可以完成移動條件式了!!"
   ]
  }
 ],
 "metadata": {
  "kernelspec": {
   "display_name": "Python 3 (ipykernel)",
   "language": "python",
   "name": "python3"
  },
  "language_info": {
   "codemirror_mode": {
    "name": "ipython",
    "version": 3
   },
   "file_extension": ".py",
   "mimetype": "text/x-python",
   "name": "python",
   "nbconvert_exporter": "python",
   "pygments_lexer": "ipython3",
   "version": "3.9.12"
  }
 },
 "nbformat": 4,
 "nbformat_minor": 5
}
